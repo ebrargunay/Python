{
  "nbformat": 4,
  "nbformat_minor": 0,
  "metadata": {
    "colab": {
      "name": "Konu çalışmaları.ipynb",
      "provenance": [],
      "authorship_tag": "ABX9TyPNP2wsDhaxR3oFWatl5wmR",
      "include_colab_link": true
    },
    "kernelspec": {
      "name": "python3",
      "display_name": "Python 3"
    },
    "language_info": {
      "name": "python"
    }
  },
  "cells": [
    {
      "cell_type": "markdown",
      "metadata": {
        "id": "view-in-github",
        "colab_type": "text"
      },
      "source": [
        "<a href=\"https://colab.research.google.com/github/ebrargunay/Python/blob/main/Konu_%C3%A7al%C4%B1%C5%9Fmalar%C4%B1.ipynb\" target=\"_parent\"><img src=\"https://colab.research.google.com/assets/colab-badge.svg\" alt=\"Open In Colab\"/></a>"
      ]
    },
    {
      "cell_type": "markdown",
      "source": [
        "**Mantıksal Operatörler**"
      ],
      "metadata": {
        "id": "M2f5QnyWU6_m"
      }
    },
    {
      "cell_type": "code",
      "source": [
        "# True and True = True\n",
        "# True and False = False\n",
        "# False and True = False\n",
        "# False and False = False\n",
        "#örn:\n",
        "kullanıcıAdı = input(\"Kullanıcı Adı: \")\n",
        "password = input(\"Password: \")\n",
        "print(kullanıcıAdı == \"ebrar\" and password == \"12345\")\n",
        "# inputla çıkan kullanıcı adını ve passwordü dopru yada yanlış girişime göre true yada false döndürür."
      ],
      "metadata": {
        "colab": {
          "base_uri": "https://localhost:8080/"
        },
        "id": "EtCTXEcEQRIo",
        "outputId": "a660ba45-1c8d-48b1-e580-a1b6e3be8a20"
      },
      "execution_count": 6,
      "outputs": [
        {
          "output_type": "stream",
          "name": "stdout",
          "text": [
            "Kullanıcı Adı: ebrar\n",
            "Password: 12345\n",
            "True\n"
          ]
        }
      ]
    },
    {
      "cell_type": "code",
      "source": [
        "# True or True = True\n",
        "# True or False = True\n",
        "# False or True = True\n",
        "# False or False = False\n",
        "#örn:\n",
        "kullanıcıAdı = input(\"Kullanıcı Adı: \")\n",
        "password = input(\"Password: \")\n",
        "print(kullanıcıAdı == \"ebrar\" or password == \"12345\")\n",
        "# kullanıcı adı yada passwordden sadece birini doğru girersen bile True döndürür."
      ],
      "metadata": {
        "colab": {
          "base_uri": "https://localhost:8080/"
        },
        "id": "EXCzN4-ySucv",
        "outputId": "12d49079-7004-40b5-c140-078f2e163811"
      },
      "execution_count": 8,
      "outputs": [
        {
          "output_type": "stream",
          "name": "stdout",
          "text": [
            "Kullanıcı Adı: sbdfxn\n",
            "Password: 12345\n",
            "True\n"
          ]
        }
      ]
    },
    {
      "cell_type": "code",
      "source": [
        "# not operatörü\n",
        "kullanıcıAdı = input(\"Kullanıcı adı: \")\n",
        "print( not (kullanıcıAdı == \"ebrar\"))\n",
        "# kullanıcı adına inputla ebrar girdiğimde parantez içi true olur ama başında not olduğu için tam tersine dönüp false olur.\n",
        "#Kullanıcı adına inputla ebrar girmezsem parantez içi false olur ancak başında not olduğu için true döner."
      ],
      "metadata": {
        "colab": {
          "base_uri": "https://localhost:8080/"
        },
        "id": "D9f1llmxTtye",
        "outputId": "db531115-1aa9-4fb3-b866-feae409db48f"
      },
      "execution_count": 12,
      "outputs": [
        {
          "output_type": "stream",
          "name": "stdout",
          "text": [
            "Kullanıcı adı: ebrar\n",
            "False\n"
          ]
        }
      ]
    },
    {
      "cell_type": "markdown",
      "source": [
        "**İf, Else, Elif**"
      ],
      "metadata": {
        "id": "DkzMPbNPVHAV"
      }
    },
    {
      "cell_type": "code",
      "source": [
        "renk = \"siyah\"\n",
        "if renk == \"beyaz\":\n",
        "  print(\"beyaz\")\n",
        "elif renk == \"sarı\":\n",
        "  print(\"sarı\")\n",
        "elif renk == \"pembe\":\n",
        "  print(\"pembe\")\n",
        "else:\n",
        "  print(\"Hiçbiri\")\n",
        "\n",
        "#elif = öyle değil değil de böyleyse demek oluyor.\n",
        "# if ve elif yanına koşul alır ve onu kontrol ettirir ancak else yanına koşul almaz. Bunlardan hiçbiri değilse else çalışır."
      ],
      "metadata": {
        "colab": {
          "base_uri": "https://localhost:8080/"
        },
        "id": "UwaxuXQtVQc4",
        "outputId": "e02d2342-b496-4823-804f-da36f544b373"
      },
      "execution_count": 16,
      "outputs": [
        {
          "output_type": "stream",
          "name": "stdout",
          "text": [
            "Hiçbiri\n"
          ]
        }
      ]
    },
    {
      "cell_type": "code",
      "source": [
        "a = 5\n",
        "b = 8\n",
        "c = 10\n",
        "if a < b or c > a:\n",
        "  print(\"koşul doğru\")\n",
        "else:\n",
        "  print(\"koşul yanlış\")\n",
        "# or kullanıldığında o yada bundan biri doğruysa(bir tanesi yanlışsa bile if çalışır) veya ikisi de doğruysa koşul doğru çıkar eğer ikisi de yanlışsa else çalışır.\n",
        "# and kullanırsam ikisi de doğru olmalı yoksa koşul yanlış çıkar.\n",
        "\n",
        "# in operatörü\n",
        "isim = \"python\"\n",
        "harf = \"p\"\n",
        "if harf in isim:\n",
        "  print(\"var\")\n",
        "else:\n",
        "  print(\"yok\")\n",
        "\n",
        "#not kullanırsan tam tersini çıkarır. if koşulu doğruysa başına not geldiyse else koşulunu çalıştırır. if koşulu yanlışsa ama başında not varsa if koşulunu çalıştırır.\n",
        "a = 3\n",
        "b = 2\n",
        "if not a==b:\n",
        "  print(\"koşul doğru\")\n",
        "else:\n",
        "  print(\"koşul yanlış\")"
      ],
      "metadata": {
        "colab": {
          "base_uri": "https://localhost:8080/"
        },
        "id": "pXylYK09cDKX",
        "outputId": "6fcc557d-ad32-4b84-8dae-439e380911b4"
      },
      "execution_count": 21,
      "outputs": [
        {
          "output_type": "stream",
          "name": "stdout",
          "text": [
            "koşul doğru\n",
            "var\n",
            "koşul doğru\n"
          ]
        }
      ]
    },
    {
      "cell_type": "markdown",
      "source": [
        "**DÖNGÜLER**"
      ],
      "metadata": {
        "id": "y3_202ZKkZfl"
      }
    },
    {
      "cell_type": "code",
      "source": [
        "# range fonksiyonu iki sayı arasındaki değerleri verir. örn:\n",
        "for i in range(0,10):\n",
        "  print(i)\n",
        "\n",
        "print(\" \")\n",
        "\n",
        "# ek bilgi\n",
        "for i in range(0,20,2):\n",
        "  print(i)\n",
        "# ikişer ikişer yazdırır.\n",
        "\n",
        "print(\" \")\n",
        "\n",
        "liste1 = [\"a\",\"b\",\"c\"]\n",
        "liste2 = [1,2,3]\n",
        "for harf in liste1:\n",
        "  for rakam in liste2:\n",
        "    print(harf,rakam)"
      ],
      "metadata": {
        "colab": {
          "base_uri": "https://localhost:8080/"
        },
        "id": "cu-nMvoYkcIm",
        "outputId": "1f60ada4-91bb-4780-d401-7ab422ebb7af"
      },
      "execution_count": 26,
      "outputs": [
        {
          "output_type": "stream",
          "name": "stdout",
          "text": [
            "0\n",
            "1\n",
            "2\n",
            "3\n",
            "4\n",
            "5\n",
            "6\n",
            "7\n",
            "8\n",
            "9\n",
            " \n",
            "0\n",
            "2\n",
            "4\n",
            "6\n",
            "8\n",
            "10\n",
            "12\n",
            "14\n",
            "16\n",
            "18\n",
            " \n",
            "a 1\n",
            "a 2\n",
            "a 3\n",
            "b 1\n",
            "b 2\n",
            "b 3\n",
            "c 1\n",
            "c 2\n",
            "c 3\n"
          ]
        }
      ]
    },
    {
      "cell_type": "markdown",
      "source": [
        "**Anahtar Kelimeler**"
      ],
      "metadata": {
        "id": "9APHWjjEz1el"
      }
    },
    {
      "cell_type": "code",
      "source": [
        "liste = [1,2,3,4,5,6,7,8,9]\n",
        "for i in liste:\n",
        "  if i == 3:\n",
        "    continue\n",
        "  print(i)\n",
        "\n",
        "print(\" \")\n",
        "\n",
        "for i in liste:\n",
        "  if i == 3:\n",
        "    break\n",
        "  print(i)"
      ],
      "metadata": {
        "colab": {
          "base_uri": "https://localhost:8080/"
        },
        "id": "qe8ygE_0z4-Q",
        "outputId": "97be88df-2ea0-42c4-fe26-3d5aad980828"
      },
      "execution_count": 31,
      "outputs": [
        {
          "output_type": "stream",
          "name": "stdout",
          "text": [
            "1\n",
            "2\n",
            "4\n",
            "5\n",
            "6\n",
            "7\n",
            "8\n",
            "9\n",
            " \n",
            "1\n",
            "2\n"
          ]
        }
      ]
    },
    {
      "cell_type": "code",
      "source": [
        "# 3 e tam bölünenleri yazdırmak: eğer i 3 e bölündüğünde sıfır kalmıyorsa o sayıyı atla demek.ek olarak 81 sayısını gördüğünde durdurmasını istiyorum.\n",
        "liste = range(100)\n",
        "for i in liste:\n",
        "  if i % 3 != 0:\n",
        "    continue\n",
        "  if i == 81:\n",
        "    break\n",
        "  print(i)"
      ],
      "metadata": {
        "colab": {
          "base_uri": "https://localhost:8080/"
        },
        "id": "dZHCHEf31J3H",
        "outputId": "3d2b5c6b-9976-4762-af4c-82efa2532afc"
      },
      "execution_count": 33,
      "outputs": [
        {
          "output_type": "stream",
          "name": "stdout",
          "text": [
            "0\n",
            "3\n",
            "6\n",
            "9\n",
            "12\n",
            "15\n",
            "18\n",
            "21\n",
            "24\n",
            "27\n",
            "30\n",
            "33\n",
            "36\n",
            "39\n",
            "42\n",
            "45\n",
            "48\n",
            "51\n",
            "54\n",
            "57\n",
            "60\n",
            "63\n",
            "66\n",
            "69\n",
            "72\n",
            "75\n",
            "78\n"
          ]
        }
      ]
    },
    {
      "cell_type": "code",
      "source": [
        "#while döngüsü belirli bir koşul sağlandığı sürece çalışan bir döngüdür.\n",
        "x = 2\n",
        "while x<10:\n",
        "  print(x)\n",
        "  x += 1"
      ],
      "metadata": {
        "colab": {
          "base_uri": "https://localhost:8080/"
        },
        "id": "OKeTD4H12CC4",
        "outputId": "c0e576dc-f90f-4142-f885-3e7fe72dc24e"
      },
      "execution_count": 39,
      "outputs": [
        {
          "output_type": "stream",
          "name": "stdout",
          "text": [
            "2\n",
            "3\n",
            "4\n",
            "5\n",
            "6\n",
            "7\n",
            "8\n",
            "9\n"
          ]
        }
      ]
    },
    {
      "cell_type": "code",
      "source": [
        "i = 1\n",
        "while True:\n",
        "  print(i)\n",
        "  i +=1\n",
        "  if i == 20:\n",
        "    break"
      ],
      "metadata": {
        "colab": {
          "base_uri": "https://localhost:8080/"
        },
        "id": "U53DpP6K_3W2",
        "outputId": "1f92fc64-5a84-4d73-ccdc-d3a5b29236a5"
      },
      "execution_count": 41,
      "outputs": [
        {
          "output_type": "stream",
          "name": "stdout",
          "text": [
            "1\n",
            "2\n",
            "3\n",
            "4\n",
            "5\n",
            "6\n",
            "7\n",
            "8\n",
            "9\n",
            "10\n",
            "11\n",
            "12\n",
            "13\n",
            "14\n",
            "15\n",
            "16\n",
            "17\n",
            "18\n",
            "19\n"
          ]
        }
      ]
    },
    {
      "cell_type": "markdown",
      "source": [
        "**FONKSİYONLAR**"
      ],
      "metadata": {
        "id": "iqQLbXrfBQD1"
      }
    },
    {
      "cell_type": "code",
      "source": [
        "def selamla():\n",
        "  print(\"Merhaba!\")\n",
        "\n",
        "selamla()"
      ],
      "metadata": {
        "colab": {
          "base_uri": "https://localhost:8080/"
        },
        "id": "XqSjUblEBVUx",
        "outputId": "4bb17fe4-d1b1-475d-aa49-02cb58816258"
      },
      "execution_count": 43,
      "outputs": [
        {
          "output_type": "stream",
          "name": "stdout",
          "text": [
            "Merhaba!\n"
          ]
        }
      ]
    },
    {
      "cell_type": "code",
      "source": [
        "def selamla(isim):\n",
        "  print(\"Merhaba\" + isim)\n",
        "selamla(\" Ali\")\n",
        "selamla(\" Ebrar\")"
      ],
      "metadata": {
        "colab": {
          "base_uri": "https://localhost:8080/"
        },
        "id": "RCdP2SqXDNwo",
        "outputId": "82194353-4a03-4ca1-c6d7-e353d48f85c5"
      },
      "execution_count": 46,
      "outputs": [
        {
          "output_type": "stream",
          "name": "stdout",
          "text": [
            "Merhaba Ali\n",
            "Merhaba Ebrar\n"
          ]
        }
      ]
    },
    {
      "cell_type": "code",
      "source": [
        ""
      ],
      "metadata": {
        "id": "o9854hSnDioK"
      },
      "execution_count": null,
      "outputs": []
    }
  ]
}