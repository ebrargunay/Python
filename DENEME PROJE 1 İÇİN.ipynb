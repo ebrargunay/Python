{
  "nbformat": 4,
  "nbformat_minor": 0,
  "metadata": {
    "colab": {
      "name": "Untitled6.ipynb",
      "provenance": [],
      "authorship_tag": "ABX9TyMJL6jLTbSifTL6XKLS+qZy",
      "include_colab_link": true
    },
    "kernelspec": {
      "name": "python3",
      "display_name": "Python 3"
    },
    "language_info": {
      "name": "python"
    }
  },
  "cells": [
    {
      "cell_type": "markdown",
      "metadata": {
        "id": "view-in-github",
        "colab_type": "text"
      },
      "source": [
        "<a href=\"https://colab.research.google.com/github/ebrargunay/Python/blob/main/DENEME%20PROJE%201%20%C4%B0%C3%87%C4%B0N.ipynb\" target=\"_parent\"><img src=\"https://colab.research.google.com/assets/colab-badge.svg\" alt=\"Open In Colab\"/></a>"
      ]
    },
    {
      "cell_type": "code",
      "execution_count": 1,
      "metadata": {
        "colab": {
          "base_uri": "https://localhost:8080/"
        },
        "id": "wnc85bH5vzyo",
        "outputId": "09e75859-21f7-4be0-b499-042d91a545f1"
      },
      "outputs": [
        {
          "name": "stdout",
          "output_type": "stream",
          "text": [
            "İndeks numaranızı giriniz: 45\n"
          ]
        }
      ],
      "source": [
        "liste = ['tavşan', 'marul', 'leopar', 'salam', 'köpüş', 'mama']\n",
        "secim =input('İndeks numaranızı giriniz: ')\n",
        "\n",
        "if secim.isdigit():\n",
        "  secim = int(secim)\n",
        "  listetoplam = len(liste)\n",
        "  if secim < listetoplam:\n",
        "    print(liste[secim])\n",
        "else:\n",
        "  print('İndeks dışı giriş...')"
      ]
    },
    {
      "cell_type": "code",
      "source": [
        "print(\"Tahmin ederek bilgilenme oyununa hoşgeldiniz!\\nGüncel ve gelecekte popüler olacak mesleklerden rastgele biri hakkında bilgi almak için bir sayı tahmininde bulunun.\")\n",
        "\n",
        "liste = ['Yazılım Mühendisliği', 'Yapay Zeka Mühendisliği', 'Blockchain Geliştiricisi', 'Veri Analisti', 'Alternatif Enerji Uzmanı', 'Siber Güvenlik Uzmanı','Bulut Mühendisi']\n",
        "tahmin = input(\"Bir sayı tahmininde bulunun: \")\n",
        "\n",
        "listetoplam = len(liste)\n",
        "if tahmin.isdigit():\n",
        "  tahmin = int(tahmin)\n",
        "if tahmin < listetoplam:\n",
        "  print(liste[tahmin])\n",
        "else:\n",
        "  print(\"Listede tahmin ettiğiniz sayıya ait meslek bulunamadı.\")\n",
        "  "
      ],
      "metadata": {
        "id": "JlNq1_B9DMG8"
      },
      "execution_count": null,
      "outputs": []
    }
  ]
}